{
 "cells": [
  {
   "cell_type": "code",
   "execution_count": 1,
   "metadata": {},
   "outputs": [
    {
     "name": "stdout",
     "output_type": "stream",
     "text": [
      "Wall time: 3.87 s\n"
     ]
    }
   ],
   "source": [
    "%%time \n",
    "import os\n",
    "\n",
    "import numpy as np\n",
    "import pandas as pd\n",
    "import matplotlib.pyplot as plt\n",
    "from matplotlib.image import imread\n",
    "import seaborn as sns\n",
    "\n",
    "from sklearn.model_selection import train_test_split\n",
    "from sklearn.metrics import accuracy_score, confusion_matrix\n",
    "\n",
    "import torch as T\n",
    "import torch.nn as nn\n",
    "import torch.nn.functional as F\n",
    "\n",
    "device = T.device('cuda:0' if T.cuda.is_available() else 'cpu')\n",
    "# device = T.device('cpu')\n",
    "\n",
    "from warnings import filterwarnings\n",
    "filterwarnings('ignore')\n",
    "\n",
    "classes = [0, 1, 2, 3, 4, 5, 6, 7, 8, 9]\n",
    "classes.extend('A B C D E F G H I J K L M N O P Q R S T U V W X Y Z'.upper().split())\n",
    "classes.extend('A B C D E F G H I J K L M N O P Q R S T U V W X Y Z'.lower().split())"
   ]
  },
  {
   "cell_type": "code",
   "execution_count": 2,
   "metadata": {},
   "outputs": [
    {
     "name": "stdout",
     "output_type": "stream",
     "text": [
      "Wall time: 0 ns\n"
     ]
    }
   ],
   "source": [
    "%%time\n",
    "class ConvModel(nn.Module):\n",
    "    def __init__(self, input_shape=(128, 128, 1), hidden_conv_size=[128,64,32,16], hidden_fc_size=[576, 288, 144, 144, 72], output_classes=62):\n",
    "        super().__init__()\n",
    "        self.conv1 = nn.Conv2d(in_channels=hidden_conv_size[0], out_channels=hidden_conv_size[1], kernel_size=3, stride=1)\n",
    "        self.conv2 = nn.Conv2d(in_channels=hidden_conv_size[1], out_channels=hidden_conv_size[2], kernel_size=3, stride=1)\n",
    "        self.conv3 = nn.Conv2d(in_channels=hidden_conv_size[2], out_channels=hidden_conv_size[3], kernel_size=3, stride=1)\n",
    "        self.fc1 = nn.Linear(in_features=hidden_fc_size[0], out_features=hidden_fc_size[1])\n",
    "        self.fc2 = nn.Linear(in_features=hidden_fc_size[1], out_features=hidden_fc_size[2])\n",
    "        self.fc3 = nn.Linear(in_features=hidden_fc_size[3], out_features=hidden_fc_size[4])\n",
    "        self.fc4 = nn.Linear(in_features=hidden_fc_size[4], out_features=output_classes)\n",
    "    def forward(self, X):\n",
    "        X = F.relu(self.conv1)\n",
    "        X = F.max_pool2d(X)\n",
    "        X = F.relu(self.conv2)\n",
    "        X = F.max_pool2d(X)\n",
    "        X = F.relu(self.conv3)\n",
    "        X = F.max_pool2d(X)\n",
    "\n",
    "        X = X.view(-1, 16*6*6)\n",
    "        X = F.relu(self.fc1(X))\n",
    "        X = F.relu(self.fc2(X))\n",
    "        X = F.relu(self.fc3(X))\n",
    "\n",
    "        return F.softmax(self.fc4, dim=1)\n",
    "    def save_checkpoint(self, filename):\n",
    "        T.save(self.state_dict(), filename)\n",
    "    \n",
    "    def load_checkpoint(self, filename):\n",
    "        self.load_state_dict(T.load(filename))"
   ]
  },
  {
   "cell_type": "code",
   "execution_count": 3,
   "metadata": {},
   "outputs": [
    {
     "name": "stdout",
     "output_type": "stream",
     "text": [
      "Wall time: 6.02 ms\n"
     ]
    },
    {
     "data": {
      "text/plain": [
       "ConvModel(\n",
       "  (conv1): Conv2d(128, 64, kernel_size=(3, 3), stride=(1, 1))\n",
       "  (conv2): Conv2d(64, 32, kernel_size=(3, 3), stride=(1, 1))\n",
       "  (conv3): Conv2d(32, 16, kernel_size=(3, 3), stride=(1, 1))\n",
       "  (fc1): Linear(in_features=576, out_features=288, bias=True)\n",
       "  (fc2): Linear(in_features=288, out_features=144, bias=True)\n",
       "  (fc3): Linear(in_features=144, out_features=72, bias=True)\n",
       "  (fc4): Linear(in_features=72, out_features=62, bias=True)\n",
       ")"
      ]
     },
     "execution_count": 3,
     "metadata": {},
     "output_type": "execute_result"
    }
   ],
   "source": [
    "%%time\n",
    "model = ConvModel()\n",
    "model"
   ]
  },
  {
   "cell_type": "code",
   "execution_count": 4,
   "metadata": {},
   "outputs": [
    {
     "name": "stdout",
     "output_type": "stream",
     "text": [
      "Wall time: 992 µs\n"
     ]
    }
   ],
   "source": [
    "%%time\n",
    "criterion = nn.CrossEntropyLoss()\n",
    "optimizer = T.optim.Adam(model.parameters(), lr=0.001)"
   ]
  },
  {
   "cell_type": "code",
   "execution_count": null,
   "metadata": {},
   "outputs": [],
   "source": [
    "%%time\n",
    "\n",
    "X = []\n",
    "y = []\n",
    "l = 0\n",
    "for dirpath, _, filenames in os.walk('data/'):\n",
    "    if dirpath is not 'data/':\n",
    "        for f in filenames:\n",
    "            X.append(imread(f'{dirpath}/{f}'))\n",
    "            y.append(l)\n",
    "        l += 1\n",
    "\n",
    "X_batch, y_batch = [], []\n",
    "for i in range(0, len(X), batch_size:=100):\n",
    "    X_batch.append(np.array(X[i:i+batch_size]))\n",
    "    y_batch.append(np.array(y[i:i+batch_size]))\n",
    "\n",
    "X_new = np.array(X_batch)\n",
    "y_new = np.array(y_batch)"
   ]
  },
  {
   "cell_type": "code",
   "execution_count": null,
   "metadata": {},
   "outputs": [],
   "source": [
    "%%time\n",
    "\n",
    "print(len(X))\n",
    "print(len(y))\n",
    "print(X_new.shape)\n",
    "print(y_new.shape)"
   ]
  },
  {
   "cell_type": "code",
   "execution_count": 7,
   "metadata": {},
   "outputs": [
    {
     "name": "stdout",
     "output_type": "stream",
     "text": [
      "Wall time: 7.38 ms\n"
     ]
    }
   ],
   "source": [
    "%%time\n",
    "\n",
    "batch_size = 100\n",
    "X_batch, y_batch = [], []\n",
    "for i in range(0, len(X), batch_size):\n",
    "    X_batch.append(X[i:i+batch_size])\n",
    "    y_batch.append(y[i:i+batch_size])"
   ]
  },
  {
   "cell_type": "code",
   "execution_count": 7,
   "metadata": {},
   "outputs": [
    {
     "name": "stdout",
     "output_type": "stream",
     "text": [
      "Wall time: 1min 6s\n"
     ]
    }
   ],
   "source": [
    "%%time\n",
    "\n",
    "X = T.tensor(X)\n",
    "y = T.tensor(y)\n",
    "\n",
    "X_train, X_test, y_train, y_test = train_test_split(X, y, test_size=0.25)\n",
    "X_train, X_valn, y_train, y_valn = train_test_split(X_train, y_train, test_size=0.15)\n",
    "\n",
    "model.to(device)\n",
    "X_train = X_train.to(device)\n",
    "y_train = y_train.to(device)\n",
    "X_valn = X_valn.to(device)\n",
    "y_valn = y_valn.to(device)"
   ]
  },
  {
   "cell_type": "code",
   "execution_count": 8,
   "metadata": {},
   "outputs": [
    {
     "name": "stdout",
     "output_type": "stream",
     "text": [
      "cuda:0\n",
      "cuda:0\n",
      "cuda:0\n",
      "cuda:0\n",
      "cpu\n",
      "cpu\n",
      "Wall time: 0 ns\n"
     ]
    }
   ],
   "source": [
    "%%time\n",
    "\n",
    "print(X_train.device)\n",
    "print(y_train.device)\n",
    "print(X_valn.device)\n",
    "print(y_valn.device)\n",
    "print(X_test.device)\n",
    "print(y_test.device)"
   ]
  },
  {
   "cell_type": "code",
   "execution_count": 9,
   "metadata": {},
   "outputs": [
    {
     "name": "stdout",
     "output_type": "stream",
     "text": [
      "torch.Size([40157, 128, 128, 1])\n",
      "torch.Size([40157])\n",
      "torch.Size([7087, 128, 128, 1])\n",
      "torch.Size([7087])\n",
      "torch.Size([15748, 128, 128, 1])\n",
      "torch.Size([15748])\n",
      "Wall time: 2.18 ms\n"
     ]
    }
   ],
   "source": [
    "%%time\n",
    "\n",
    "print(X_train.shape)\n",
    "print(y_train.shape)\n",
    "print(X_valn.shape)\n",
    "print(y_valn.shape)\n",
    "print(X_test.shape)\n",
    "print(y_test.shape)"
   ]
  },
  {
   "cell_type": "code",
   "execution_count": 10,
   "metadata": {},
   "outputs": [
    {
     "ename": "TypeError",
     "evalue": "iteration over a 0-d tensor",
     "output_type": "error",
     "traceback": [
      "\u001b[1;31m---------------------------------------------------------------------------\u001b[0m",
      "\u001b[1;31mTypeError\u001b[0m                                 Traceback (most recent call last)",
      "\u001b[1;32m<timed exec>\u001b[0m in \u001b[0;36m<module>\u001b[1;34m\u001b[0m\n",
      "\u001b[1;32mC:\\ProgramData\\Anaconda3\\lib\\site-packages\\torch\\tensor.py\u001b[0m in \u001b[0;36m__iter__\u001b[1;34m(self)\u001b[0m\n\u001b[0;32m    448\u001b[0m     \u001b[1;32mdef\u001b[0m \u001b[0m__iter__\u001b[0m\u001b[1;33m(\u001b[0m\u001b[0mself\u001b[0m\u001b[1;33m)\u001b[0m\u001b[1;33m:\u001b[0m\u001b[1;33m\u001b[0m\u001b[1;33m\u001b[0m\u001b[0m\n\u001b[0;32m    449\u001b[0m         \u001b[1;32mif\u001b[0m \u001b[0mself\u001b[0m\u001b[1;33m.\u001b[0m\u001b[0mdim\u001b[0m\u001b[1;33m(\u001b[0m\u001b[1;33m)\u001b[0m \u001b[1;33m==\u001b[0m \u001b[1;36m0\u001b[0m\u001b[1;33m:\u001b[0m\u001b[1;33m\u001b[0m\u001b[1;33m\u001b[0m\u001b[0m\n\u001b[1;32m--> 450\u001b[1;33m             \u001b[1;32mraise\u001b[0m \u001b[0mTypeError\u001b[0m\u001b[1;33m(\u001b[0m\u001b[1;34m'iteration over a 0-d tensor'\u001b[0m\u001b[1;33m)\u001b[0m\u001b[1;33m\u001b[0m\u001b[1;33m\u001b[0m\u001b[0m\n\u001b[0m\u001b[0;32m    451\u001b[0m         \u001b[1;32mif\u001b[0m \u001b[0mtorch\u001b[0m\u001b[1;33m.\u001b[0m\u001b[0m_C\u001b[0m\u001b[1;33m.\u001b[0m\u001b[0m_get_tracing_state\u001b[0m\u001b[1;33m(\u001b[0m\u001b[1;33m)\u001b[0m\u001b[1;33m:\u001b[0m\u001b[1;33m\u001b[0m\u001b[1;33m\u001b[0m\u001b[0m\n\u001b[0;32m    452\u001b[0m             warnings.warn('Iterating over a tensor might cause the trace to be incorrect. '\n",
      "\u001b[1;31mTypeError\u001b[0m: iteration over a 0-d tensor"
     ]
    }
   ],
   "source": [
    "%%time\n",
    "\n",
    "epochs = 10\n",
    "train_losses = []\n",
    "val_losses = []\n",
    "train_correct = []\n",
    "val_correct = []\n",
    "\n",
    "model.train()\n",
    "\n",
    "for i in range(epochs):\n",
    "    \n",
    "    trn_corr = 0\n",
    "    tst_corr = 0\n",
    "    for b, (X_trn, y_trn) in zip(X_train, y_train):\n",
    "        b += 1\n",
    "        \n",
    "        y_pred = model(X_trn)\n",
    "        loss = criterion(y_pred, y_trn)\n",
    "        \n",
    "        predicted = torch.max(y_pred.data, 1)[1]\n",
    "        batch_corr = (predicted == y_trn).sum()\n",
    "        trn_corr += batch_corr\n",
    "        \n",
    "        optimizer.zero_grad()\n",
    "        loss.backward()\n",
    "        optimizer.step()\n",
    "        \n",
    "        if b % 600 == 0:\n",
    "            print(f\"EPOCH: {i} BATCH: {b} LOSS: {loss.item()}\")\n",
    "    \n",
    "    train_losses.append(loss)\n",
    "    train_correct.append(trn_corr)\n",
    "            \n",
    "    with torch.no_grad():\n",
    "        for b, (X_test, y_test) in zip(X_valn, y_valn):\n",
    "\n",
    "            y_val = model(X_test)\n",
    "\n",
    "            predicted = torch.max(y_val.data, 1)[1]\n",
    "            tst_corr = (predicted == y_test).sum()\n",
    "                \n",
    "    loss = criterion(y_val, y_test)\n",
    "    val_losses.append(loss)\n",
    "    val_correct.append(tst_corr)"
   ]
  },
  {
   "cell_type": "code",
   "execution_count": 11,
   "metadata": {},
   "outputs": [
    {
     "name": "stdout",
     "output_type": "stream",
     "text": [
      "Wall time: 100 ms\n"
     ]
    },
    {
     "data": {
      "text/plain": [
       "<matplotlib.legend.Legend at 0x222cbcb6f70>"
      ]
     },
     "execution_count": 11,
     "metadata": {},
     "output_type": "execute_result"
    },
    {
     "data": {
      "image/png": "[encoded data removed]",
      "text/plain": [
       "<Figure size 432x288 with 1 Axes>"
      ]
     },
     "metadata": {
      "needs_background": "light"
     },
     "output_type": "display_data"
    }
   ],
   "source": [
    "%%time\n",
    "\n",
    "plt.plot(train_losses, label='Training Loss')\n",
    "plt.plot(val_losses, label='Validation Loss')\n",
    "plt.title('LOSS AT EPOCH')\n",
    "plt.legend()"
   ]
  },
  {
   "cell_type": "code",
   "execution_count": null,
   "metadata": {},
   "outputs": [],
   "source": []
  }
 ],
 "metadata": {
  "kernelspec": {
   "display_name": "Python 3",
   "language": "python",
   "name": "python3"
  },
  "language_info": {
   "codemirror_mode": {
    "name": "ipython",
    "version": 3
   },
   "file_extension": ".py",
   "mimetype": "text/x-python",
   "name": "python",
   "nbconvert_exporter": "python",
   "pygments_lexer": "ipython3",
   "version": "3.8.5"
  }
 },
 "nbformat": 4,
 "nbformat_minor": 2
}
