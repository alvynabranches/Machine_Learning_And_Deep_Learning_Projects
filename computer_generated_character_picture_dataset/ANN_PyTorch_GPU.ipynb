{
 "cells": [
  {
   "cell_type": "code",
   "execution_count": 1,
   "metadata": {},
   "outputs": [
    {
     "name": "stdout",
     "output_type": "stream",
     "text": [
      "Wall time: 3.38 s\n"
     ]
    }
   ],
   "source": [
    "%%time \n",
    "import os\n",
    "\n",
    "import numpy as np\n",
    "import pandas as pd\n",
    "import matplotlib.pyplot as plt\n",
    "from matplotlib.image import imread\n",
    "import seaborn as sns\n",
    "\n",
    "from sklearn.model_selection import train_test_split\n",
    "from sklearn.metrics import accuracy_score, confusion_matrix\n",
    "\n",
    "import torch as T\n",
    "import torch.nn as nn\n",
    "import torch.nn.functional as F\n",
    "\n",
    "device = T.device('cuda:0' if T.cuda.is_available() else 'cpu')\n",
    "# device = T.device('cpu')\n",
    "\n",
    "from warnings import filterwarnings\n",
    "filterwarnings('ignore')\n",
    "\n",
    "classes = [0, 1, 2, 3, 4, 5, 6, 7, 8, 9]\n",
    "classes.extend('A B C D E F G H I J K L M N O P Q R S T U V W X Y Z'.upper().split())\n",
    "classes.extend('A B C D E F G H I J K L M N O P Q R S T U V W X Y Z'.lower().split())"
   ]
  },
  {
   "cell_type": "code",
   "execution_count": 2,
   "metadata": {},
   "outputs": [
    {
     "name": "stdout",
     "output_type": "stream",
     "text": [
      "Wall time: 0 ns\n"
     ]
    }
   ],
   "source": [
    "%%time\n",
    "class ConvModel(nn.Module):\n",
    "    def __init__(self, input_shape=(128, 128, 1), hidden_conv_size=[128,64,32,16], hidden_fc_size=[576, 288, 144, 144, 72], output_classes=62):\n",
    "        super().__init__()\n",
    "        self.conv1 = nn.Conv2d(in_channels=hidden_conv_size[0], out_channels=hidden_conv_size[1], kernel_size=3, stride=1)\n",
    "        self.conv2 = nn.Conv2d(in_channels=hidden_conv_size[1], out_channels=hidden_conv_size[2], kernel_size=3, stride=1)\n",
    "        self.conv3 = nn.Conv2d(in_channels=hidden_conv_size[2], out_channels=hidden_conv_size[3], kernel_size=3, stride=1)\n",
    "        self.fc1 = nn.Linear(in_features=hidden_fc_size[0], out_features=hidden_fc_size[1])\n",
    "        self.fc2 = nn.Linear(in_features=hidden_fc_size[1], out_features=hidden_fc_size[2])\n",
    "        self.fc3 = nn.Linear(in_features=hidden_fc_size[3], out_features=hidden_fc_size[4])\n",
    "        self.fc4 = nn.Linear(in_features=hidden_fc_size[4], out_features=output_classes)\n",
    "    def forward(self, X):\n",
    "        X = F.relu(self.conv1)\n",
    "        X = F.max_pool2d(X)\n",
    "        X = F.relu(self.conv2)\n",
    "        X = F.max_pool2d(X)\n",
    "        X = F.relu(self.conv3)\n",
    "        X = F.max_pool2d(X)\n",
    "\n",
    "        X = X.view(-1, 16*6*6)\n",
    "        X = F.relu(self.fc1(X))\n",
    "        X = F.relu(self.fc2(X))\n",
    "        X = F.relu(self.fc3(X))\n",
    "\n",
    "        return F.softmax(self.fc4, dim=1)"
   ]
  },
  {
   "cell_type": "code",
   "execution_count": 3,
   "metadata": {},
   "outputs": [
    {
     "name": "stdout",
     "output_type": "stream",
     "text": [
      "Wall time: 5.02 ms\n"
     ]
    },
    {
     "data": {
      "text/plain": [
       "ConvModel(\n",
       "  (conv1): Conv2d(128, 64, kernel_size=(3, 3), stride=(1, 1))\n",
       "  (conv2): Conv2d(64, 32, kernel_size=(3, 3), stride=(1, 1))\n",
       "  (conv3): Conv2d(32, 16, kernel_size=(3, 3), stride=(1, 1))\n",
       "  (fc1): Linear(in_features=576, out_features=288, bias=True)\n",
       "  (fc2): Linear(in_features=288, out_features=144, bias=True)\n",
       "  (fc3): Linear(in_features=144, out_features=72, bias=True)\n",
       "  (fc4): Linear(in_features=72, out_features=62, bias=True)\n",
       ")"
      ]
     },
     "execution_count": 3,
     "metadata": {},
     "output_type": "execute_result"
    }
   ],
   "source": [
    "%%time\n",
    "model = ConvModel()\n",
    "model"
   ]
  },
  {
   "cell_type": "code",
   "execution_count": 4,
   "metadata": {},
   "outputs": [
    {
     "name": "stdout",
     "output_type": "stream",
     "text": [
      "Wall time: 0 ns\n"
     ]
    }
   ],
   "source": [
    "%%time\n",
    "criterion = nn.CrossEntropyLoss()\n",
    "optimizer = T.optim.Adam(model.parameters(), lr=0.001)"
   ]
  },
  {
   "cell_type": "code",
   "execution_count": null,
   "metadata": {},
   "outputs": [],
   "source": [
    "%%time\n",
    "\n",
    "X = []\n",
    "y = []\n",
    "l = 0\n",
    "for dirpath, _, filenames in os.walk('data/'):\n",
    "    if dirpath is not 'data/':\n",
    "        for f in filenames:\n",
    "            X.append(imread(f'{dirpath}/{f}'))\n",
    "            y.append(l)\n",
    "        l += 1\n",
    "\n",
    "X = np.array(X)\n",
    "X = np.expand_dims(X, axis=3)\n",
    "y = np.array(y)"
   ]
  },
  {
   "cell_type": "code",
   "execution_count": null,
   "metadata": {},
   "outputs": [],
   "source": [
    "%%time\n",
    "\n",
    "print(len(X))\n",
    "print(len(y))\n",
    "print(X.shape)\n",
    "print(y.shape)"
   ]
  },
  {
   "cell_type": "code",
   "execution_count": null,
   "metadata": {},
   "outputs": [],
   "source": [
    "%%time\n",
    "\n",
    "X = T.tensor(X)\n",
    "y = T.tensor(y)\n",
    "\n",
    "X_train, X_test, y_train, y_test = train_test_split(X, y, test_size=0.25)\n",
    "X_train, X_valn, y_train, y_valn = train_test_split(X_train, y_train, test_size=0.15)\n",
    "del X, y\n",
    "\n",
    "model.to(device)\n",
    "X_train.to(device)\n",
    "y_train.to(device)\n",
    "X_valn.to(device)\n",
    "y_valn.to(device)"
   ]
  },
  {
   "cell_type": "code",
   "execution_count": null,
   "metadata": {},
   "outputs": [],
   "source": [
    "%%time\n",
    "\n",
    "print(X_train.device)\n",
    "print(y_train.device)\n",
    "print(X_valn.device)\n",
    "print(y_valn.device)\n",
    "print(X_test.device)\n",
    "print(y_test.device)"
   ]
  },
  {
   "cell_type": "code",
   "execution_count": null,
   "metadata": {},
   "outputs": [],
   "source": [
    "%%time\n",
    "\n",
    "print(X_train.shape)\n",
    "print(y_train.shape)\n",
    "print(X_valn.shape)\n",
    "print(y_valn.shape)\n",
    "print(X_test.shape)\n",
    "print(y_test.shape)"
   ]
  },
  {
   "cell_type": "code",
   "execution_count": null,
   "metadata": {},
   "outputs": [],
   "source": [
    "%%time\n",
    "\n",
    "epochs = 10\n",
    "train_losses = []\n",
    "val_losses = []\n",
    "train_correct = []\n",
    "val_correct = []\n",
    "\n",
    "model.train()\n",
    "\n",
    "for i in range(epochs):\n",
    "    \n",
    "    trn_corr = 0\n",
    "    val_corr = 0\n",
    "    for b, (X_train, y_train) in enumerate(train_loader):\n",
    "        \n",
    "        y_pred = model(X_train)\n",
    "        loss = criterion(y_pred, y_train)\n",
    "        \n",
    "        predicted = T.max(y_pred.data, 1)[1]\n",
    "        batch_corr = (predicted == y_train).sum()\n",
    "        trn_corr += batch_corr\n",
    "        \n",
    "        optimizer.zero_grad()\n",
    "        loss.backward()\n",
    "        optimizer.step()\n",
    "        \n",
    "        if b % 600 == 0:\n",
    "            print(f\"EPOCH: {i+1} BATCH: {b+1} LOSS: {loss.item()}\")\n",
    "    \n",
    "    train_losses.append(loss)\n",
    "    train_correct.append(trn_corr)\n",
    "            \n",
    "    with T.no_grad():\n",
    "        for X_val, y_val in zip(X_valn, y_valn):\n",
    "\n",
    "            y_pred = model(X_val)\n",
    "\n",
    "            predicted = torch.max(y_pred.data, 1)[1]\n",
    "            val_corr = (predicted == y_val).sum()\n",
    "                \n",
    "    loss = criterion(y_pred, y_val)\n",
    "    val_losses.append(loss)\n",
    "    val_correct.append(val_corr)"
   ]
  },
  {
   "cell_type": "code",
   "execution_count": null,
   "metadata": {},
   "outputs": [],
   "source": [
    "%%time\n",
    "\n",
    "plt.plot(train_losses, label='Training Loss')\n",
    "plt.plot(val_losses, label='Validation Loss')\n",
    "plt.title('LOSS AT EPOCH')\n",
    "plt.legend()"
   ]
  }
 ],
 "metadata": {
  "kernelspec": {
   "display_name": "Python 3",
   "language": "python",
   "name": "python3"
  },
  "language_info": {
   "codemirror_mode": {
    "name": "ipython",
    "version": 3
   },
   "file_extension": ".py",
   "mimetype": "text/x-python",
   "name": "python",
   "nbconvert_exporter": "python",
   "pygments_lexer": "ipython3",
   "version": "3.8.5"
  }
 },
 "nbformat": 4,
 "nbformat_minor": 2
}
