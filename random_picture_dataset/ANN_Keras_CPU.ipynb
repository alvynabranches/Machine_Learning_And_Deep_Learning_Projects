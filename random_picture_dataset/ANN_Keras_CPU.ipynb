{
 "metadata": {
  "language_info": {
   "codemirror_mode": {
    "name": "ipython",
    "version": 3
   },
   "file_extension": ".py",
   "mimetype": "text/x-python",
   "name": "python",
   "nbconvert_exporter": "python",
   "pygments_lexer": "ipython3",
   "version": "3.8.3-final"
  },
  "orig_nbformat": 2,
  "kernelspec": {
   "name": "python3",
   "display_name": "Python 3"
  }
 },
 "nbformat": 4,
 "nbformat_minor": 2,
 "cells": [
  {
   "cell_type": "code",
   "execution_count": 1,
   "metadata": {},
   "outputs": [],
   "source": [
    "import os\n",
    "import json\n",
    "\n",
    "import numpy as np\n",
    "import pandas as pd\n",
    "\n",
    "import matplotlib.pyplot as plt\n",
    "from matplotlib.image import imread\n",
    "import seaborn as sn\n",
    "\n",
    "import tensorflow as tf\n",
    "import tensorflow.keras as keras\n",
    "from tensorflow.keras.models import Sequential, load_model\n",
    "from tensorflow.keras.layers import BatchNormalization, Dense, Flatten, Conv2D, Dropout, Input, MaxPool2D, AvgPool2D\n",
    "from tensorflow.keras.losses import SparseCategoricalCrossentropy\n",
    "from tensorflow.keras.optimizers import Adam, SGD\n",
    "\n",
    "from sklearn.model_selection import train_test_split\n",
    "from sklearn.metrics import accuracy_score, confusion_matrix\n",
    "\n",
    "from warnings import filterwarnings\n",
    "filterwarnings('ignore')\n",
    "\n",
    "classes = [0, 1, 2, 3, 4, 5, 6, 7, 8, 9]\n",
    "classes.extend('A B C D E F G H I J K L M N O P Q R S T U V W X Y Z'.upper().split())\n",
    "classes.extend('A B C D E F G H I J K L M N O P Q R S T U V W X Y Z'.lower().split())"
   ]
  },
  {
   "cell_type": "code",
   "execution_count": 2,
   "metadata": {
    "tags": []
   },
   "outputs": [
    {
     "output_type": "stream",
     "name": "stdout",
     "text": "Model: \"linear_model\"\n_________________________________________________________________\nLayer (type)                 Output Shape              Param #   \n=================================================================\nflatten (Flatten)            (None, 16384)             0         \n_________________________________________________________________\ndense (Dense)                (None, 256)               4194560   \n_________________________________________________________________\ndense_1 (Dense)              (None, 128)               32896     \n_________________________________________________________________\ndense_2 (Dense)              (None, 64)                8256      \n_________________________________________________________________\ndense_3 (Dense)              (None, 62)                4030      \n=================================================================\nTotal params: 4,239,742\nTrainable params: 4,239,742\nNon-trainable params: 0\n_________________________________________________________________\n"
    }
   ],
   "source": [
    "linear_model = Sequential(name='linear_model')\n",
    "linear_model.add(Input(shape=(128,128,1)))\n",
    "linear_model.add(Flatten())\n",
    "linear_model.add(Dense(256, activation='relu'))\n",
    "linear_model.add(Dense(128, activation='relu'))\n",
    "linear_model.add(Dense(64, activation='relu'))\n",
    "linear_model.add(Dense(len(classes), activation='sigmoid'))\n",
    "linear_model.compile(loss=SparseCategoricalCrossentropy(), optimizer=Adam(learning_rate=1e-3), metrics=['accuracy'])\n",
    "linear_model.summary()"
   ]
  },
  {
   "cell_type": "code",
   "execution_count": 3,
   "metadata": {
    "tags": []
   },
   "outputs": [
    {
     "output_type": "stream",
     "name": "stdout",
     "text": "Model: \"conv_model\"\n_________________________________________________________________\nLayer (type)                 Output Shape              Param #   \n=================================================================\nconv2d (Conv2D)              (None, 126, 126, 128)     1280      \n_________________________________________________________________\nmax_pooling2d (MaxPooling2D) (None, 63, 63, 128)       0         \n_________________________________________________________________\nconv2d_1 (Conv2D)            (None, 61, 61, 32)        36896     \n_________________________________________________________________\nmax_pooling2d_1 (MaxPooling2 (None, 30, 30, 32)        0         \n_________________________________________________________________\nconv2d_2 (Conv2D)            (None, 28, 28, 64)        18496     \n_________________________________________________________________\nmax_pooling2d_2 (MaxPooling2 (None, 14, 14, 64)        0         \n_________________________________________________________________\nconv2d_3 (Conv2D)            (None, 12, 12, 32)        18464     \n_________________________________________________________________\nmax_pooling2d_3 (MaxPooling2 (None, 6, 6, 32)          0         \n_________________________________________________________________\nflatten_1 (Flatten)          (None, 1152)              0         \n_________________________________________________________________\ndense_4 (Dense)              (None, 256)               295168    \n_________________________________________________________________\ndense_5 (Dense)              (None, 128)               32896     \n_________________________________________________________________\ndense_6 (Dense)              (None, 64)                8256      \n_________________________________________________________________\ndense_7 (Dense)              (None, 62)                4030      \n=================================================================\nTotal params: 415,486\nTrainable params: 415,486\nNon-trainable params: 0\n_________________________________________________________________\n"
    }
   ],
   "source": [
    "conv_model = Sequential(name='conv_model')\n",
    "conv_model.add(Input(shape=(128, 128, 1)))\n",
    "conv_model.add(Conv2D(128, (3, 3), activation='relu'))\n",
    "conv_model.add(MaxPool2D(pool_size=(2, 2)))\n",
    "conv_model.add(Conv2D(32, (3, 3), activation='relu'))\n",
    "conv_model.add(MaxPool2D(pool_size=(2, 2)))\n",
    "conv_model.add(Conv2D(64, (3, 3), activation='relu'))\n",
    "conv_model.add(MaxPool2D(pool_size=(2, 2)))\n",
    "conv_model.add(Conv2D(32, (3, 3), activation='relu'))\n",
    "conv_model.add(MaxPool2D(pool_size=(2, 2)))\n",
    "conv_model.add(Flatten())\n",
    "conv_model.add(Dense(256, activation='relu'))\n",
    "conv_model.add(Dense(128, activation='relu'))\n",
    "conv_model.add(Dense(64, activation='relu'))\n",
    "conv_model.add(Dense(62, activation='sigmoid'))\n",
    "conv_model.compile(loss=SparseCategoricalCrossentropy(), optimizer=Adam(learning_rate=1e-3), metrics=['accuracy'])\n",
    "conv_model.summary()"
   ]
  },
  {
   "cell_type": "code",
   "execution_count": 4,
   "metadata": {
    "tags": []
   },
   "outputs": [
    {
     "output_type": "stream",
     "name": "stdout",
     "text": "62992\n62992\n(62992, 128, 128, 1)\n(62992,)\nWall time: 2min 22s\n"
    }
   ],
   "source": [
    "%%time\n",
    "X = []\n",
    "y = []\n",
    "l = 0\n",
    "for dirpath, dirnames, filenames in os.walk('data/'):\n",
    "    # print(dirpath)\n",
    "    if dirpath is not 'data/':\n",
    "        for f in filenames:\n",
    "            # print(f)\n",
    "            X.append(imread(f'{dirpath}/{f}'))\n",
    "            y.append(l)\n",
    "        l += 1\n",
    "X = np.array(X)\n",
    "X = np.expand_dims(X, axis=3)\n",
    "X.reshape(X.shape[0], X.shape[1], X.shape[2])\n",
    "y = np.array(y)\n",
    "print(len(X))\n",
    "print(len(y))\n",
    "print(X.shape)\n",
    "print(y.shape)\n",
    "\n",
    "X_train, X_test, y_train, y_test = train_test_split(X, y, test_size=0.25)\n",
    "X_train, X_val, y_train, y_val = train_test_split(X_train, y_train, test_size=0.15)\n",
    "del X, y"
   ]
  },
  {
   "cell_type": "code",
   "execution_count": 5,
   "metadata": {
    "tags": []
   },
   "outputs": [
    {
     "output_type": "stream",
     "name": "stdout",
     "text": "Epoch 1/10\n266/402 [==================>...........] - ETA: 7:16 - loss: 1.7270 - accuracy: 0.5406"
    }
   ],
   "source": [
    "%%time\n",
    "conv_model.fit(X_train, y_train, batch_size=100, epochs=10, validation_data=(X_val, y_val))"
   ]
  },
  {
   "cell_type": "code",
   "execution_count": null,
   "metadata": {},
   "outputs": [],
   "source": [
    "conv_model.save('conv_model.h5')"
   ]
  },
  {
   "cell_type": "code",
   "execution_count": null,
   "metadata": {},
   "outputs": [],
   "source": []
  }
 ]
}